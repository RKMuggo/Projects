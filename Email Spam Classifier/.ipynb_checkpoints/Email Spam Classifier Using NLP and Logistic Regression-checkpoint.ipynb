{
 "cells": [
  {
   "cell_type": "markdown",
   "id": "0a6a0022",
   "metadata": {},
   "source": [
    "# Email Spam Classifier"
   ]
  },
  {
   "cell_type": "markdown",
   "id": "1ae1b1a6",
   "metadata": {
    "nbgrader": {
     "grade": false,
     "grade_id": "proj2",
     "locked": true,
     "schema_version": 2,
     "solution": false
    }
   },
   "source": [
    "## Introduction\n",
    "\n",
    "In today's digital age, email communication has become an essential part of my daily life. With the increase in email usage, I've noticed a significant rise in unsolicited and unwanted emails, commonly known as spam. These spam emails clutter my inbox, making it challenging to manage important communications efficiently. To address this issue, I've decided to develop a spam filter that can accurately classify emails as either spam (ham) or not spam (ham).\n",
    "\n",
    "This project, which I have named **Spam and Ham Classifier Using NLP and Logistic Regression**, aims to build an effective spam filter using Natural Language Processing (NLP) techniques and Logistic Regression. By analyzing the textual content of emails, I will identify patterns and features that distinguish spam from legitimate emails.\n",
    "\n",
    "My key objectives for this project are:\n",
    "1. **Data Preprocessing**: Cleaning and preparing the email dataset for analysis.\n",
    "2. **Feature Extraction**: Using NLP techniques to extract meaningful features from the email text.\n",
    "3. **Model Training**: Training a Logistic Regression model on the extracted features to classify emails.\n",
    "4. **Model Evaluation**: Evaluating the performance of the trained model using appropriate metrics.\n",
    "\n",
    "Throughout this project, I will explore various NLP techniques and machine learning concepts, providing detailed explanations and insights into each step of the process. This will not only help me build an effective spam filter but also enhance my understanding of how NLP and machine learning can be applied to real-world problems.\n",
    "\n",
    "Let's dive into the details of my project and start by loading and preprocessing the dataset."
   ]
  },
  {
   "cell_type": "code",
   "execution_count": 31,
   "id": "e26a59d3",
   "metadata": {},
   "outputs": [
    {
     "name": "stdout",
     "output_type": "stream",
     "text": [
      "Note: you may need to restart the kernel to use updated packages.\n",
      "The iwut extension is already loaded. To reload it, use:\n",
      "  %reload_ext iwut\n"
     ]
    }
   ],
   "source": [
    "import warnings\n",
    "warnings.filterwarnings(\"ignore\", category=FutureWarning)\n",
    "\n",
    "%pip install --quiet iwut\n",
    "%load_ext iwut\n",
    "%wut on"
   ]
  },
  {
   "cell_type": "code",
   "execution_count": 32,
   "id": "d00d49c9",
   "metadata": {
    "ExecuteTime": {
     "end_time": "2019-04-03T20:17:41.341673Z",
     "start_time": "2019-04-03T20:17:41.330307Z"
    },
    "nbgrader": {
     "grade": false,
     "grade_id": "imports",
     "locked": true,
     "schema_version": 2,
     "solution": false
    },
    "tags": []
   },
   "outputs": [],
   "source": [
    "import numpy as np\n",
    "import pandas as pd\n",
    "\n",
    "import matplotlib.pyplot as plt\n",
    "%matplotlib inline\n",
    "\n",
    "import seaborn as sns\n",
    "sns.set(style = \"whitegrid\", \n",
    "        color_codes = True,\n",
    "        font_scale = 1.5)"
   ]
  },
  {
   "cell_type": "markdown",
   "id": "dd80d814",
   "metadata": {},
   "source": [
    "# Section 1: Building a Simple Model"
   ]
  },
  {
   "cell_type": "markdown",
   "id": "b7c5be31",
   "metadata": {
    "nbgrader": {
     "grade": false,
     "grade_id": "loading",
     "locked": true,
     "schema_version": 2,
     "solution": false
    }
   },
   "source": [
    "<hr style=\"border: 5px solid #003262;\" />\n",
    "<hr style=\"border: 1px solid #fdb515;\" />\n",
    "\n",
    "## The Data\n",
    "\n",
    "In email classification, my goal is to classify emails as spam or not spam (referred to as \"ham\") using features generated from the text in the email. The dataset I'm using is from [SpamAssassin](https://spamassassin.apache.org/old/publiccorpus/). It consists of email messages and their labels (0 for ham, 1 for spam). The labeled training dataset contains 8,348 labeled examples, and the unlabeled test set contains 1,000 unlabeled examples.\n",
    "\n",
    "**Note:** The dataset is from 2004, so the contents of emails might be very different from those in current time.\n",
    "\n",
    "I'll start by loading the data into a `DataFrame`. The `train` `DataFrame` contains labeled data that I will use to train my model. It has four columns:\n",
    "\n",
    "1. `id`: An identifier for the training example.\n",
    "2. `subject`: The subject of the email.\n",
    "3. `email`: The text of the email.\n",
    "4. `spam`: 1 if the email is spam, 0 if the email is ham (not spam).\n",
    "\n",
    "The `test` `DataFrame` contains 1,000 unlabeled emails. In section 2 of this project, I will predict labels for these emails."
   ]
  },
  {
   "cell_type": "code",
   "execution_count": 33,
   "id": "35bf4bea",
   "metadata": {},
   "outputs": [],
   "source": [
    "import zipfile\n",
    "with zipfile.ZipFile('spam_ham_data.zip') as item:\n",
    "    item.extractall()"
   ]
  },
  {
   "cell_type": "code",
   "execution_count": 34,
   "id": "c8c64a48",
   "metadata": {},
   "outputs": [
    {
     "data": {
      "text/html": [
       "<div>\n",
       "<style scoped>\n",
       "    .dataframe tbody tr th:only-of-type {\n",
       "        vertical-align: middle;\n",
       "    }\n",
       "\n",
       "    .dataframe tbody tr th {\n",
       "        vertical-align: top;\n",
       "    }\n",
       "\n",
       "    .dataframe thead th {\n",
       "        text-align: right;\n",
       "    }\n",
       "</style>\n",
       "<table border=\"1\" class=\"dataframe\">\n",
       "  <thead>\n",
       "    <tr style=\"text-align: right;\">\n",
       "      <th></th>\n",
       "      <th>id</th>\n",
       "      <th>subject</th>\n",
       "      <th>email</th>\n",
       "      <th>spam</th>\n",
       "    </tr>\n",
       "  </thead>\n",
       "  <tbody>\n",
       "    <tr>\n",
       "      <th>0</th>\n",
       "      <td>0</td>\n",
       "      <td>Subject: A&amp;L Daily to be auctioned in bankrupt...</td>\n",
       "      <td>url: http://boingboing.net/#85534171\\n date: n...</td>\n",
       "      <td>0</td>\n",
       "    </tr>\n",
       "    <tr>\n",
       "      <th>1</th>\n",
       "      <td>1</td>\n",
       "      <td>Subject: Wired: \"Stronger ties between ISPs an...</td>\n",
       "      <td>url: http://scriptingnews.userland.com/backiss...</td>\n",
       "      <td>0</td>\n",
       "    </tr>\n",
       "    <tr>\n",
       "      <th>2</th>\n",
       "      <td>2</td>\n",
       "      <td>Subject: It's just too small                  ...</td>\n",
       "      <td>&lt;html&gt;\\n &lt;head&gt;\\n &lt;/head&gt;\\n &lt;body&gt;\\n &lt;font siz...</td>\n",
       "      <td>1</td>\n",
       "    </tr>\n",
       "    <tr>\n",
       "      <th>3</th>\n",
       "      <td>3</td>\n",
       "      <td>Subject: liberal defnitions\\n</td>\n",
       "      <td>depends on how much over spending vs. how much...</td>\n",
       "      <td>0</td>\n",
       "    </tr>\n",
       "    <tr>\n",
       "      <th>4</th>\n",
       "      <td>4</td>\n",
       "      <td>Subject: RE: [ILUG] Newbie seeks advice - Suse...</td>\n",
       "      <td>hehe sorry but if you hit caps lock twice the ...</td>\n",
       "      <td>0</td>\n",
       "    </tr>\n",
       "  </tbody>\n",
       "</table>\n",
       "</div>"
      ],
      "text/plain": [
       "   id                                            subject  \\\n",
       "0   0  Subject: A&L Daily to be auctioned in bankrupt...   \n",
       "1   1  Subject: Wired: \"Stronger ties between ISPs an...   \n",
       "2   2  Subject: It's just too small                  ...   \n",
       "3   3                      Subject: liberal defnitions\\n   \n",
       "4   4  Subject: RE: [ILUG] Newbie seeks advice - Suse...   \n",
       "\n",
       "                                               email  spam  \n",
       "0  url: http://boingboing.net/#85534171\\n date: n...     0  \n",
       "1  url: http://scriptingnews.userland.com/backiss...     0  \n",
       "2  <html>\\n <head>\\n </head>\\n <body>\\n <font siz...     1  \n",
       "3  depends on how much over spending vs. how much...     0  \n",
       "4  hehe sorry but if you hit caps lock twice the ...     0  "
      ]
     },
     "execution_count": 34,
     "metadata": {},
     "output_type": "execute_result"
    }
   ],
   "source": [
    "# Loading training and test datasets\n",
    "original_training_data = pd.read_csv('train.csv')\n",
    "test = pd.read_csv('test.csv')\n",
    "\n",
    "# Convert the emails to lowercase as the first step of text processing.\n",
    "original_training_data['email'] = original_training_data['email'].str.lower()\n",
    "test['email'] = test['email'].str.lower()\n",
    "\n",
    "original_training_data.head()"
   ]
  },
  {
   "cell_type": "markdown",
   "id": "36f623fa",
   "metadata": {
    "nbgrader": {
     "grade": false,
     "grade_id": "cell-34476156ed73b800",
     "locked": true,
     "schema_version": 2,
     "solution": false
    }
   },
   "source": [
    "<br/>\n",
    "\n",
    "First, I checked if the data contained any missing values. I filled in the cell below to print the number of `NaN` values in each column. If there were any `NaN` values, I replaced them with appropriate filler values (i.e., `NaN` values in the `subject` or `email` columns were replaced with empty strings). Finally, I printed the number of `NaN` values in each column after this modification to verify that there were no `NaN` values left.\n",
    "\n",
    "**Note:** While there were no `NaN` values in the `spam` column, I was careful when replacing `NaN` labels. Doing so without consideration could introduce significant bias into my model.\n"
   ]
  },
  {
   "cell_type": "code",
   "execution_count": 35,
   "id": "26cecfd6",
   "metadata": {
    "ExecuteTime": {
     "end_time": "2019-04-03T20:17:42.203231Z",
     "start_time": "2019-04-03T20:17:42.185104Z"
    },
    "nbgrader": {
     "grade": false,
     "grade_id": "cell-b1fb39d9b651ca1b",
     "locked": false,
     "schema_version": 2,
     "solution": true
    }
   },
   "outputs": [
    {
     "name": "stdout",
     "output_type": "stream",
     "text": [
      "Before imputation:\n",
      "id         0\n",
      "subject    6\n",
      "email      0\n",
      "spam       0\n",
      "dtype: int64\n",
      "------------\n",
      "After imputation:\n",
      "id         0\n",
      "subject    0\n",
      "email      0\n",
      "spam       0\n",
      "dtype: int64\n"
     ]
    }
   ],
   "source": [
    "print('Before imputation:')\n",
    "print(original_training_data.isnull().sum())\n",
    "original_training_data = original_training_data.fillna('')\n",
    "print('------------')\n",
    "print('After imputation:')\n",
    "print(original_training_data.isnull().sum())"
   ]
  },
  {
   "cell_type": "markdown",
   "id": "249f7db3",
   "metadata": {
    "nbgrader": {
     "grade": false,
     "grade_id": "q1",
     "locked": true,
     "schema_version": 2,
     "solution": false
    }
   },
   "source": [
    "<hr style=\"border: 1px solid #fdb515;\" />\n",
    "\n",
    "## Part 1: Initial Analysis\n",
    "\n",
    "In the cell below, I printed the text of the `email` field for the first ham and the first spam email in the original training set."
   ]
  },
  {
   "cell_type": "code",
   "execution_count": 36,
   "id": "3cdf1915",
   "metadata": {
    "ExecuteTime": {
     "end_time": "2019-04-03T20:17:42.247245Z",
     "start_time": "2019-04-03T20:17:42.228451Z"
    },
    "nbgrader": {
     "grade": false,
     "grade_id": "q1-answer",
     "locked": false,
     "schema_version": 2,
     "solution": true
    }
   },
   "outputs": [
    {
     "name": "stdout",
     "output_type": "stream",
     "text": [
      "Ham Email:\n",
      "url: http://boingboing.net/#85534171\n",
      " date: not supplied\n",
      " \n",
      " arts and letters daily, a wonderful and dense blog, has folded up its tent due \n",
      " to the bankruptcy of its parent company. a&l daily will be auctioned off by the \n",
      " receivers. link[1] discuss[2] (_thanks, misha!_)\n",
      " \n",
      " [1] http://www.aldaily.com/\n",
      " [2] http://www.quicktopic.com/boing/h/zlfterjnd6jf\n",
      " \n",
      " \n",
      "\n",
      "-------------------------------------------------\n",
      "Spam Email:\n",
      "<html>\n",
      " <head>\n",
      " </head>\n",
      " <body>\n",
      " <font size=3d\"4\"><b> a man endowed with a 7-8\" hammer is simply<br>\n",
      "  better equipped than a man with a 5-6\"hammer. <br>\n",
      " <br>would you rather have<br>more than enough to get the job done or fall =\n",
      " short. it's totally up<br>to you. our methods are guaranteed to increase y=\n",
      " our size by 1-3\"<br> <a href=3d\"http://209.163.187.47/cgi-bin/index.php?10=\n",
      " 004\">come in here and see how</a>\n",
      " </body>\n",
      " </html>\n",
      " \n",
      " \n",
      " \n",
      "\n"
     ]
    }
   ],
   "source": [
    "first_ham = original_training_data.loc[original_training_data['spam'] == 0, 'email'].iloc[0]\n",
    "first_spam = original_training_data.loc[original_training_data['spam'] == 1, 'email'].iloc[0]\n",
    "print(\"Ham Email:\")\n",
    "print(first_ham)\n",
    "print(\"-------------------------------------------------\")\n",
    "print(\"Spam Email:\")\n",
    "print(first_spam)"
   ]
  },
  {
   "cell_type": "markdown",
   "id": "3e320512",
   "metadata": {
    "deletable": false,
    "editable": false
   },
   "source": [
    "## Identification of Spam Email\n",
    "One distinguishing feature between the two emails is the presence of HTML tags. The spam email incorporates HTML tags like html>, head>, body>, and font>, while the ham email does not utilize them. This disparity can play a role in identifying spam emails, as spammers often employ HTML formatting to enhance the visual appeal and draw attention to their messages."
   ]
  },
  {
   "cell_type": "markdown",
   "id": "615476fe",
   "metadata": {
    "deletable": false,
    "editable": false,
    "nbgrader": {
     "grade": false,
     "grade_id": "cell-78513403ef52a957",
     "locked": true,
     "schema_version": 2,
     "solution": false
    }
   },
   "source": [
    "## Training-Validation Split\n",
    "\n",
    "The training data I downloaded was all the data I had available for both training models and **validating** the models that I trained. Therefore, I needed to split the training data into separate training and validation datasets. I needed this **validation data** to assess the performance of my classifier once I finished training. I set the seed (`random_state`) to 42. This produced a pseudo-random sequence of random numbers."
   ]
  },
  {
   "cell_type": "code",
   "execution_count": 37,
   "id": "d2c863ce",
   "metadata": {
    "ExecuteTime": {
     "end_time": "2019-04-03T20:17:42.317970Z",
     "start_time": "2019-04-03T20:17:42.294532Z"
    },
    "nbgrader": {
     "grade": false,
     "grade_id": "cell-873194ed3e686dfb",
     "locked": true,
     "schema_version": 2,
     "solution": false
    }
   },
   "outputs": [],
   "source": [
    "# This creates a 90/10 train-validation split on our labeled data.\n",
    "from sklearn.model_selection import train_test_split\n",
    "\n",
    "train, val = train_test_split(original_training_data, test_size = 0.1, random_state = 42)"
   ]
  },
  {
   "cell_type": "markdown",
   "id": "1651d93c",
   "metadata": {
    "nbgrader": {
     "grade": false,
     "grade_id": "feat-eng",
     "locked": true,
     "schema_version": 2,
     "solution": false
    }
   },
   "source": [
    "<hr style=\"border: 1px solid #fdb515;\" />\n",
    "\n",
    "# Part 2: Feature Engineering\n",
    "\n",
    "I wanted to take the text of an email and predict whether the email was ham or spam. This was a **binary classification** problem, so I used logistic regression to train a classifier. To train a logistic regression model, I needed a numeric feature matrix $\\mathbb{X}$ and a vector of corresponding binary labels $Y$. Unfortunately, my data were text, not numbers. To address this, I created numeric features derived from the email text and used those features for logistic regression.\n",
    "\n",
    "Each row of $\\mathbb{X}$ represented an email, and each column of $\\mathbb{X}$ contained one feature for all the emails. I started by creating a simple feature and then proceeded to create more interesting ones to increase the accuracy of my model."
   ]
  },
  {
   "cell_type": "markdown",
   "id": "ca003825",
   "metadata": {
    "deletable": false,
    "editable": false
   },
   "source": [
    "<br>\n",
    "\n",
    "I created a function `words_in_texts` that took in a list of interesting words (`words`) and a `Series` of emails (`texts`). My goal was to check if each word in `words` was contained in the emails in `texts`.\n",
    "\n",
    "The `words_in_texts` function output a **2-dimensional `NumPy` array** that contained one row for each email in `texts` and one column for each word in `words`. If the $j$-th word in `words` was present at least once in the $i$-th email in `texts$, the output array had a value of 1 at the position $(i, j)$. Otherwise, if the $j$-th word was not present in the $i$-th email, the value at $(i, j)$ was 0.\n",
    "\n",
    "In the next section, I planned to apply `words_in_texts` to some large datasets, so implementing some form of vectorization (for example, using `NumPy` arrays, `Series.str` functions, etc.) was highly useful.\n",
    "\n",
    "For example:\n",
    "```python\n",
    ">>> words_in_texts(['hello', 'bye', 'world'], \n",
    "                   pd.Series(['hello', 'hello worldhello']))\n",
    "\n",
    "array([[1, 0, 0],\n",
    "       [1, 0, 1]])\n",
    "```\n",
    "\n",
    "Importantly, I did not calculate the number of occurrences of each word; only if the word was present at least once. I took a moment to work through the example on my own to understand what the function did before implementing it."
   ]
  },
  {
   "cell_type": "code",
   "execution_count": 38,
   "id": "405efb6a",
   "metadata": {
    "ExecuteTime": {
     "end_time": "2019-04-03T20:17:42.337281Z",
     "start_time": "2019-04-03T20:17:42.320567Z"
    },
    "nbgrader": {
     "grade": false,
     "grade_id": "q2-answer",
     "locked": false,
     "schema_version": 2,
     "solution": true
    },
    "tags": [
     "student"
    ]
   },
   "outputs": [],
   "source": [
    "def words_in_texts(words, texts):\n",
    "    \"\"\"\n",
    "    Args:\n",
    "        words (list): Words to find.\n",
    "        texts (Series): Strings to search in.\n",
    "    \n",
    "    Returns:\n",
    "        A 2D NumPy array of 0s and 1s with shape (n, d) where \n",
    "        n is the number of texts and d is the number of words.\n",
    "    \"\"\"\n",
    "    indicator_array = np.array([[1 if word in text else 0 for word in words] for text in texts])\n",
    "    return indicator_array"
   ]
  },
  {
   "cell_type": "markdown",
   "id": "d979502e",
   "metadata": {
    "nbgrader": {
     "grade": false,
     "grade_id": "eda",
     "locked": true,
     "schema_version": 2,
     "solution": false
    }
   },
   "source": [
    "<hr style=\"border: 1px solid #fdb515;\" />\n",
    "\n",
    "## Part 3: EDA\n",
    "\n",
    "I needed to identify some features that would allow me to distinguish spam emails from ham emails. One idea was to compare the distribution of a single feature in spam emails to the distribution of the same feature in ham emails. Suppose the feature was a binary indicator, such as whether a particular word occurred in the text. In that case, this comparison involved looking at the proportion of spam emails with the word against the proportion of ham emails with the word.\n",
    "\n",
    "This approach helped me understand how certain words or features were associated with spam or ham emails. By identifying words that were more prevalent in spam emails compared to ham emails (and vice versa), I could create features that would improve the accuracy of my spam classifier.\n",
    "\n",
    "Next, I proceeded to implement and analyze this idea by comparing specific words' occurrences in spam and ham emails."
   ]
  },
  {
   "cell_type": "markdown",
   "id": "bf91a1a5",
   "metadata": {
    "nbgrader": {
     "grade": false,
     "grade_id": "q3a",
     "locked": true,
     "schema_version": 2,
     "solution": false
    }
   },
   "source": [
    "The following plot (created using `sns.barplot`) compared the proportion of emails in each class containing a particular set of words. The bars colored by email class were generated by setting the `hue` parameter of `sns.barplot` to a column containing the class (spam or ham) of each data point. \n",
    "\n",
    "Here is an example of how this class column was created and the resulting plot:\n",
    "\n",
    "![training conditional proportions](images/training_conditional_proportions.png)\n",
    "\n",
    "To create this plot, I used `DataFrame`'s `.melt` method to \"unpivot\" a `DataFrame`. This method helped in transforming the DataFrame from a wide format to a long format, which was suitable for plotting with `sns.barplot`. \n",
    "\n",
    "Below is an example of how I implemented this:"
   ]
  },
  {
   "cell_type": "code",
   "execution_count": 40,
   "id": "d679aafa",
   "metadata": {
    "ExecuteTime": {
     "end_time": "2019-04-03T20:17:42.428419Z",
     "start_time": "2019-04-03T20:17:42.386697Z"
    }
   },
   "outputs": [
    {
     "data": {
      "text/markdown": [
       "> Our Original DataFrame has a `type` column and some columns corresponding to words. You can think of each row as a sentence, and the value of 1 or 0 indicates the number of occurrences of the word in this sentence."
      ],
      "text/plain": [
       "<IPython.core.display.Markdown object>"
      ]
     },
     "metadata": {},
     "output_type": "display_data"
    },
    {
     "data": {
      "text/html": [
       "<div>\n",
       "<style scoped>\n",
       "    .dataframe tbody tr th:only-of-type {\n",
       "        vertical-align: middle;\n",
       "    }\n",
       "\n",
       "    .dataframe tbody tr th {\n",
       "        vertical-align: top;\n",
       "    }\n",
       "\n",
       "    .dataframe thead th {\n",
       "        text-align: right;\n",
       "    }\n",
       "</style>\n",
       "<table border=\"1\" class=\"dataframe\">\n",
       "  <thead>\n",
       "    <tr style=\"text-align: right;\">\n",
       "      <th></th>\n",
       "      <th>word_1</th>\n",
       "      <th>word_2</th>\n",
       "      <th>type</th>\n",
       "    </tr>\n",
       "  </thead>\n",
       "  <tbody>\n",
       "    <tr>\n",
       "      <th>0</th>\n",
       "      <td>1</td>\n",
       "      <td>0</td>\n",
       "      <td>spam</td>\n",
       "    </tr>\n",
       "    <tr>\n",
       "      <th>1</th>\n",
       "      <td>0</td>\n",
       "      <td>1</td>\n",
       "      <td>ham</td>\n",
       "    </tr>\n",
       "    <tr>\n",
       "      <th>2</th>\n",
       "      <td>1</td>\n",
       "      <td>0</td>\n",
       "      <td>ham</td>\n",
       "    </tr>\n",
       "    <tr>\n",
       "      <th>3</th>\n",
       "      <td>0</td>\n",
       "      <td>1</td>\n",
       "      <td>ham</td>\n",
       "    </tr>\n",
       "  </tbody>\n",
       "</table>\n",
       "</div>"
      ],
      "text/plain": [
       "   word_1  word_2  type\n",
       "0       1       0  spam\n",
       "1       0       1   ham\n",
       "2       1       0   ham\n",
       "3       0       1   ham"
      ]
     },
     "metadata": {},
     "output_type": "display_data"
    },
    {
     "data": {
      "text/markdown": [
       "> `melt` will turn columns into entries in a variable column. Notice how `word_1` and `word_2` become entries in `variable`; their values are stored in the value column."
      ],
      "text/plain": [
       "<IPython.core.display.Markdown object>"
      ]
     },
     "metadata": {},
     "output_type": "display_data"
    },
    {
     "data": {
      "text/html": [
       "<div>\n",
       "<style scoped>\n",
       "    .dataframe tbody tr th:only-of-type {\n",
       "        vertical-align: middle;\n",
       "    }\n",
       "\n",
       "    .dataframe tbody tr th {\n",
       "        vertical-align: top;\n",
       "    }\n",
       "\n",
       "    .dataframe thead th {\n",
       "        text-align: right;\n",
       "    }\n",
       "</style>\n",
       "<table border=\"1\" class=\"dataframe\">\n",
       "  <thead>\n",
       "    <tr style=\"text-align: right;\">\n",
       "      <th></th>\n",
       "      <th>type</th>\n",
       "      <th>variable</th>\n",
       "      <th>value</th>\n",
       "    </tr>\n",
       "  </thead>\n",
       "  <tbody>\n",
       "    <tr>\n",
       "      <th>0</th>\n",
       "      <td>spam</td>\n",
       "      <td>word_1</td>\n",
       "      <td>1</td>\n",
       "    </tr>\n",
       "    <tr>\n",
       "      <th>1</th>\n",
       "      <td>ham</td>\n",
       "      <td>word_1</td>\n",
       "      <td>0</td>\n",
       "    </tr>\n",
       "    <tr>\n",
       "      <th>2</th>\n",
       "      <td>ham</td>\n",
       "      <td>word_1</td>\n",
       "      <td>1</td>\n",
       "    </tr>\n",
       "    <tr>\n",
       "      <th>3</th>\n",
       "      <td>ham</td>\n",
       "      <td>word_1</td>\n",
       "      <td>0</td>\n",
       "    </tr>\n",
       "    <tr>\n",
       "      <th>4</th>\n",
       "      <td>spam</td>\n",
       "      <td>word_2</td>\n",
       "      <td>0</td>\n",
       "    </tr>\n",
       "    <tr>\n",
       "      <th>5</th>\n",
       "      <td>ham</td>\n",
       "      <td>word_2</td>\n",
       "      <td>1</td>\n",
       "    </tr>\n",
       "    <tr>\n",
       "      <th>6</th>\n",
       "      <td>ham</td>\n",
       "      <td>word_2</td>\n",
       "      <td>0</td>\n",
       "    </tr>\n",
       "    <tr>\n",
       "      <th>7</th>\n",
       "      <td>ham</td>\n",
       "      <td>word_2</td>\n",
       "      <td>1</td>\n",
       "    </tr>\n",
       "  </tbody>\n",
       "</table>\n",
       "</div>"
      ],
      "text/plain": [
       "   type variable  value\n",
       "0  spam   word_1      1\n",
       "1   ham   word_1      0\n",
       "2   ham   word_1      1\n",
       "3   ham   word_1      0\n",
       "4  spam   word_2      0\n",
       "5   ham   word_2      1\n",
       "6   ham   word_2      0\n",
       "7   ham   word_2      1"
      ]
     },
     "metadata": {},
     "output_type": "display_data"
    }
   ],
   "source": [
    "from IPython.display import display, Markdown\n",
    "df = pd.DataFrame({\n",
    "    'word_1': [1, 0, 1, 0],\n",
    "    'word_2': [0, 1, 0, 1],\n",
    "    'type': ['spam', 'ham', 'ham', 'ham']\n",
    "})\n",
    "display(Markdown(\"> Our Original DataFrame has a `type` column and some columns corresponding to words. You can think of each row as a sentence, and the value of 1 or 0 indicates the number of occurrences of the word in this sentence.\"))\n",
    "display(df);\n",
    "display(Markdown(\"> `melt` will turn columns into entries in a variable column. Notice how `word_1` and `word_2` become entries in `variable`; their values are stored in the value column.\"))\n",
    "display(df.melt(\"type\"))"
   ]
  },
  {
   "cell_type": "markdown",
   "id": "adb18c18",
   "metadata": {},
   "source": [
    "To create the bar chart comparing the proportion of spam and ham emails containing specific words, I selected a set of 6 words that had noticeably different proportions across the two classes. The words I chose were \"free\", \"win\", \"offer\", \"click\", \"money\", and \"subscribe\". \n",
    "\n",
    "Here is how I created the bar chart using these words:"
   ]
  },
  {
   "cell_type": "code",
   "execution_count": 41,
   "id": "c297d1e1",
   "metadata": {
    "ExecuteTime": {
     "end_time": "2019-04-03T20:17:43.145246Z",
     "start_time": "2019-04-03T20:17:42.430406Z"
    },
    "nbgrader": {
     "grade": true,
     "grade_id": "q3a-answer",
     "locked": false,
     "points": 2,
     "schema_version": 2,
     "solution": true
    },
    "tags": []
   },
   "outputs": [
    {
     "data": {
      "image/png": "[encoded data removed]",
      "text/plain": [
       "<Figure size 800x600 with 1 Axes>"
      ]
     },
     "metadata": {},
     "output_type": "display_data"
    }
   ],
   "source": [
    "train = train.reset_index(drop=True)\n",
    "plt.figure(figsize=(8,6))\n",
    "\n",
    "words = ['free', 'home', 'urgent', 'win', 'cash', 'prize']\n",
    "ps = words_in_texts(words, train['email'])\n",
    "ps_df = pd.DataFrame(ps, columns=words)\n",
    "ps_df['type'] = train['spam'].replace({0: 'Ham', 1: 'Spam'})\n",
    "ps_melted = ps_df.melt(id_vars='type')\n",
    "\n",
    "sns.barplot(x='variable', y='value', hue='type', data=ps_melted, ci=None)\n",
    "plt.xlabel('Words')\n",
    "plt.ylabel('Proportion of Emails')\n",
    "plt.title('Frequency of Words in Spam/Ham Emails')\n",
    "\n",
    "plt.tight_layout()\n",
    "plt.show()"
   ]
  },
  {
   "cell_type": "markdown",
   "id": "fea744e9",
   "metadata": {
    "deletable": false,
    "editable": false,
    "nbgrader": {
     "grade": false,
     "grade_id": "q3b",
     "locked": true,
     "schema_version": 2,
     "solution": false
    }
   },
   "source": [
    "When the feature is binary, it makes sense to compare its proportions across classes (as in the previous question). Otherwise, if the feature can take on numeric values, we can compare the distributions of these values for different classes. "
   ]
  },
  {
   "cell_type": "markdown",
   "id": "b6809f69",
   "metadata": {
    "nbgrader": {
     "grade": false,
     "grade_id": "classification",
     "locked": true,
     "schema_version": 2,
     "solution": false
    }
   },
   "source": [
    "<hr style=\"border: 1px solid #fdb515;\" />\n",
    "\n",
    "# Part 4: Basic Classification"
   ]
  },
  {
   "cell_type": "markdown",
   "id": "e9e0586e",
   "metadata": {
    "deletable": false,
    "editable": false
   },
   "source": [
    "I used the 5 words that might be useful as features to distinguish spam/ham emails. I created two `NumPy` arrays: `X_train` and `Y_train`. `X_train` was a 2D array of 0s and 1s created using my `words_in_texts` function on all the emails in the training set. `Y_train` was a vector of the correct labels for each email in the training set.\n",
    "\n",
    "Here is how I implemented this:"
   ]
  },
  {
   "cell_type": "code",
   "execution_count": 42,
   "id": "f95c92ac",
   "metadata": {
    "ExecuteTime": {
     "end_time": "2019-04-03T20:17:43.726012Z",
     "start_time": "2019-04-03T20:17:43.498088Z"
    },
    "nbgrader": {
     "grade": false,
     "grade_id": "q4-answer",
     "locked": false,
     "schema_version": 2,
     "solution": true
    },
    "tags": [
     "student"
    ]
   },
   "outputs": [
    {
     "data": {
      "text/plain": [
       "(array([[0, 0, 0, 0, 0],\n",
       "        [0, 0, 0, 0, 0],\n",
       "        [0, 0, 0, 0, 0],\n",
       "        [0, 0, 0, 0, 0],\n",
       "        [0, 0, 0, 1, 0]]),\n",
       " array([0, 0, 0, 0, 0]))"
      ]
     },
     "execution_count": 42,
     "metadata": {},
     "output_type": "execute_result"
    }
   ],
   "source": [
    "some_words = ['drug', 'bank', 'prescription', 'memo', 'private']\n",
    "\n",
    "X_train = words_in_texts(some_words, train['email'])\n",
    "Y_train = train['spam'].values\n",
    "\n",
    "X_train[:5], Y_train[:5]"
   ]
  },
  {
   "cell_type": "markdown",
   "id": "8438c154",
   "metadata": {
    "deletable": false,
    "editable": false
   },
   "source": [
    "Now that I had the matrices, I built a model with `sklearn`! Using the [`LogisticRegression`](http://scikit-learn.org/stable/modules/generated/sklearn.linear_model.LogisticRegression.html) classifier, I trained a logistic regression model using `X_train` and `Y_train`. Then, I output the model's training accuracy. \n",
    "\n",
    "Here is how I implemented this:"
   ]
  },
  {
   "cell_type": "code",
   "execution_count": 44,
   "id": "624f32ce",
   "metadata": {
    "ExecuteTime": {
     "end_time": "2019-04-03T20:17:44.593918Z",
     "start_time": "2019-04-03T20:17:43.783872Z"
    },
    "nbgrader": {
     "grade": false,
     "grade_id": "q5-answer",
     "locked": false,
     "schema_version": 2,
     "solution": true
    },
    "tags": [
     "student"
    ]
   },
   "outputs": [
    {
     "name": "stdout",
     "output_type": "stream",
     "text": [
      "Training Accuracy:  0.7576201251164648\n"
     ]
    }
   ],
   "source": [
    "from sklearn.linear_model import LogisticRegression\n",
    "\n",
    "my_model = LogisticRegression()\n",
    "my_model.fit(X_train, Y_train)\n",
    "\n",
    "training_accuracy = my_model.score(X_train, Y_train)\n",
    "print(\"Training Accuracy: \", training_accuracy)"
   ]
  },
  {
   "cell_type": "markdown",
   "id": "8b7d8b65",
   "metadata": {},
   "source": [
    "<hr style=\"border: 1px solid #fdb515;\" />\n",
    "\n",
    "## Part 5: Evaluating Classifiers"
   ]
  },
  {
   "cell_type": "markdown",
   "id": "2e7cff52",
   "metadata": {},
   "source": [
    "That doesn't seem too bad! But the classifier I made above isn't as good as the accuracy would make you believe. First, I was evaluating the accuracy of the model on the training set, which might provide a misleading accuracy measure. Accuracy on the training set doesn't always translate to accuracy in the real world (on the test set). In future parts of this analysis, I will make use of the data I held out for model validation and comparison.\n",
    "\n",
    "Presumably, my classifier will be used for **filtering**, i.e., preventing messages labeled `spam` from reaching someone's inbox. There are two kinds of errors we can make:\n",
    "- **False positive (FP)**: A ham email gets flagged as spam and filtered out of the inbox.\n",
    "- **False negative (FN)**: A spam email gets mislabeled as ham and ends up in the inbox.\n",
    "\n",
    "To be clear, I labeled spam emails as 1 and ham emails as 0. These definitions depend both on the true labels and the predicted labels. False positives and false negatives may be of differing importance, leading me to consider more ways of evaluating a classifier in addition to overall accuracy:\n",
    "\n",
    "**Precision**: Measures the proportion of emails flagged as spam that are actually spam. Mathematically, $\\frac{\\text{TP}}{\\text{TP} + \\text{FP}}$.\n",
    "\n",
    "**Recall**: Measures the proportion of spam emails that were correctly flagged as spam. Mathematically, $\\frac{\\text{TP}}{\\text{TP} + \\text{FN}}$.\n",
    "\n",
    "**False positive rate**: Measures the proportion of ham emails that were incorrectly flagged as spam. Mathematically, $\\frac{\\text{FP}}{\\text{FP} + \\text{TN}}$.\n",
    "\n",
    "One quick mnemonic to remember the formulas is that **P**recision involves T**P** and F**P**, Recall does not. In the final, the reference sheet will also contain the formulas shown above, but I should be able to interpret what they mean and their importance depending on the context.\n",
    "\n",
    "The below graphic (modified slightly from [Wikipedia](https://en.wikipedia.org/wiki/Precision_and_recall)) may help you understand precision and recall visually:<br />\n",
    "<center>\n",
    "<img alt=\"precision_recall\" src=\"images/precision_recall.png\" width=\"600px\" />\n",
    "</center>\n",
    "\n",
    "Note that a True Positive (TP) is a spam email that is classified as spam, and a True Negative (TN) is a ham email that is classified as ham."
   ]
  },
  {
   "cell_type": "markdown",
   "id": "25f9a4df",
   "metadata": {
    "deletable": false,
    "editable": false
   },
   "source": [
    "To determine how many false positives and false negatives the \"zero predictor\" would have if it were evaluated on the training set and its results were compared to `Y_train`, I needed to follow these steps:\n",
    "\n",
    "1. **False Positive (FP)**: This occurs when the true label is 0 (ham), but the predicted label is 1 (spam). Since the zero predictor always predicts 0, it will never predict 1. Therefore, there will be no false positives.\n",
    "\n",
    "2. **False Negative (FN)**: This occurs when the true label is 1 (spam), but the predicted label is 0 (ham). Since the zero predictor always predicts 0, every spam email (label 1) will be predicted as ham (label 0), leading to a false negative for each spam email.\n",
    "\n",
    "Here is the implementation to calculate the number of false positives and false negatives:"
   ]
  },
  {
   "cell_type": "code",
   "execution_count": 46,
   "id": "c7f59f00",
   "metadata": {
    "ExecuteTime": {
     "end_time": "2019-04-03T20:20:13.853633Z",
     "start_time": "2019-04-03T20:20:13.825724Z"
    },
    "nbgrader": {
     "grade": false,
     "grade_id": "q6a-answer",
     "locked": false,
     "schema_version": 2,
     "solution": true
    },
    "tags": []
   },
   "outputs": [
    {
     "data": {
      "text/plain": [
       "(0, 1918)"
      ]
     },
     "execution_count": 46,
     "metadata": {},
     "output_type": "execute_result"
    }
   ],
   "source": [
    "zero_predictor_fp = 0\n",
    "zero_predictor_fn = sum(Y_train == 1)\n",
    "zero_predictor_fp, zero_predictor_fn"
   ]
  },
  {
   "cell_type": "markdown",
   "id": "3183c40c",
   "metadata": {
    "deletable": false,
    "editable": false
   },
   "source": [
    "To calculate the accuracy and recall of the zero predictor on the training data, I used the following definitions:\n",
    "\n",
    "- **Accuracy**: The proportion of correctly predicted instances (both true positives and true negatives) out of the total instances.\n",
    "- **Recall**: The proportion of true positives that were correctly identified by the model.\n",
    "\n",
    "Since the zero predictor always predicts 0:\n",
    "- It will have no true positives (TP) and no false positives (FP).\n",
    "- It will correctly predict all ham emails (true negatives, TN).\n",
    "- It will incorrectly predict all spam emails as ham (false negatives, FN).\n",
    "\n",
    "Here is the implementation to calculate the accuracy and recall:"
   ]
  },
  {
   "cell_type": "code",
   "execution_count": 48,
   "id": "9f517335",
   "metadata": {
    "ExecuteTime": {
     "end_time": "2019-04-03T20:23:21.553134Z",
     "start_time": "2019-04-03T20:23:21.548219Z"
    },
    "tags": []
   },
   "outputs": [
    {
     "data": {
      "text/plain": [
       "(0.7447091707706642, 0)"
      ]
     },
     "execution_count": 48,
     "metadata": {},
     "output_type": "execute_result"
    }
   ],
   "source": [
    "zero_predictor_acc = sum(Y_train == 0) / len(Y_train)\n",
    "zero_predictor_recall = 0\n",
    "zero_predictor_acc, zero_predictor_recall"
   ]
  },
  {
   "cell_type": "markdown",
   "id": "ca3b3d50",
   "metadata": {},
   "source": [
    "The zero predictor is defined by its consistent prediction of every email as ham (0), never labeling any as spam (1). For false positives (`zero_predictor_fp`), the value is 0 because this classifier, by its nature, never predicts spam, eliminating any possibility of misclassifying a ham email as spam. In terms of false negatives (`zero_predictor_fn`), every spam email in the dataset becomes a false negative since the classifier fails to recognize any email as spam, leading to the false negatives being equal to the total count of spam emails (sum(Y_train == 1)).\n",
    "\n",
    "The accuracy (`zero_predictor_acc`) of the zero predictor reflects the proportion of emails it correctly identifies as ham, which translates to the proportion of ham emails in the dataset (sum(Y_train == 0) / len(Y_train)). The recall (`zero_predictor_recall`) is 0 because the classifier does not correctly identify any of the actual spam emails, resulting in a recall rate of zero percent."
   ]
  },
  {
   "cell_type": "markdown",
   "id": "026d6f9e",
   "metadata": {
    "deletable": false,
    "editable": false
   },
   "source": [
    "To compute the precision, recall, and false positive rate of the `LogisticRegression` classifier `my_model`, I followed these steps:\n",
    "\n",
    "1. **Precision**: Measures the proportion of emails flagged as spam that are actually spam.\n",
    "   \\[\n",
    "   \\text{Precision} = \\frac{\\text{TP}}{\\text{TP} + \\text{FP}}\n",
    "   \\]\n",
    "\n",
    "2. **Recall**: Measures the proportion of spam emails that were correctly flagged as spam.\n",
    "   \\[\n",
    "   \\text{Recall} = \\frac{\\text{TP}}{\\text{TP} + \\text{FN}}\n",
    "   \\]\n",
    "\n",
    "3. **False Positive Rate (FPR)**: Measures the proportion of ham emails that were incorrectly flagged as spam.\n",
    "   \\[\n",
    "   \\text{FPR} = \\frac{\\text{FP}}{\\text{FP} + \\text{TN}}\n",
    "   \\]\n",
    "\n",
    "Here's the implementation to calculate these metrics:"
   ]
  },
  {
   "cell_type": "code",
   "execution_count": 51,
   "id": "bbc95a6e",
   "metadata": {
    "ExecuteTime": {
     "end_time": "2019-04-03T20:37:54.875265Z",
     "start_time": "2019-04-03T20:37:54.720667Z"
    },
    "tags": []
   },
   "outputs": [
    {
     "name": "stdout",
     "output_type": "stream",
     "text": [
      "TP=219, TN=5473, FP=122, FN=1699\n",
      "logistic_predictor_precision=0.64, logistic_predictor_recall=0.11, logistic_predictor_fpr=0.02\n"
     ]
    }
   ],
   "source": [
    "Y_train_hat = my_model.predict(X_train)\n",
    "\n",
    "TP = np.sum((Y_train_hat == 1) & (Y_train == 1))\n",
    "TN = np.sum((Y_train_hat == 0) & (Y_train == 0))\n",
    "FP = np.sum((Y_train_hat == 1) & (Y_train == 0))\n",
    "FN = np.sum((Y_train_hat == 0) & (Y_train == 1))\n",
    "logistic_predictor_precision = TP / (TP + FP)\n",
    "logistic_predictor_recall = TP / (TP + FN)\n",
    "logistic_predictor_fpr = FP / (FP + TN)\n",
    "\n",
    "print(f\"{TP=}, {TN=}, {FP=}, {FN=}\")\n",
    "print(f\"{logistic_predictor_precision=:.2f}, {logistic_predictor_recall=:.2f}, {logistic_predictor_fpr=:.2f}\")"
   ]
  },
  {
   "cell_type": "markdown",
   "id": "c3efda1f",
   "metadata": {},
   "source": [
    "By executing this code, I calculated the precision, recall, and false positive rate for the LogisticRegression classifier `my_model` on the training data.\n",
    "\n",
    "In this implementation:\n",
    "\n",
    "- **TP (True Positives)** is the count of spam emails correctly predicted as spam.\n",
    "- **FP (False Positives)** is the count of ham emails incorrectly predicted as spam.\n",
    "- **TN (True Negatives)** is the count of ham emails correctly predicted as ham.\n",
    "- **FN (False Negatives)** is the count of spam emails incorrectly predicted as ham.\n",
    "\n",
    "This approach allowed me to compute the performance metrics without using any additional `sklearn` functions."
   ]
  },
  {
   "cell_type": "markdown",
   "id": "afff738a",
   "metadata": {
    "deletable": false,
    "editable": false
   },
   "source": [
    "To determine if the number of false positives produced by the logistic regression classifier `my_model` is strictly greater than the number of false negatives, I calculated the false positives (FP) and false negatives (FN) and compared them."
   ]
  },
  {
   "cell_type": "code",
   "execution_count": 53,
   "id": "a04ca10f",
   "metadata": {
    "tags": []
   },
   "outputs": [
    {
     "data": {
      "text/plain": [
       "False"
      ]
     },
     "execution_count": 53,
     "metadata": {},
     "output_type": "execute_result"
    }
   ],
   "source": [
    "q6e = FP > FN\n",
    "q6e"
   ]
  },
  {
   "cell_type": "markdown",
   "id": "7938c8b4",
   "metadata": {
    "deletable": false,
    "editable": false
   },
   "source": [
    "To compare the accuracy of the logistic regression classifier `my_model` to the accuracy of the zero predictor, I first calculated the accuracy for both classifiers. Here's how I did it:"
   ]
  },
  {
   "cell_type": "code",
   "execution_count": 59,
   "id": "bb825e42",
   "metadata": {},
   "outputs": [
    {
     "data": {
      "text/plain": [
       "0.7576201251164648"
      ]
     },
     "execution_count": 59,
     "metadata": {},
     "output_type": "execute_result"
    }
   ],
   "source": [
    "my_model_accuracy = (219+5473)/(219+5473+122+1699)\n",
    "my_model_accuracy"
   ]
  },
  {
   "cell_type": "code",
   "execution_count": 60,
   "id": "e2a4f6a8",
   "metadata": {},
   "outputs": [
    {
     "data": {
      "text/plain": [
       "0.7447091707706642"
      ]
     },
     "execution_count": 60,
     "metadata": {},
     "output_type": "execute_result"
    }
   ],
   "source": [
    "zero_predictor_acc"
   ]
  },
  {
   "cell_type": "markdown",
   "id": "d9a495b6",
   "metadata": {},
   "source": [
    "The comparison between the logistic regression classifier's accuracy and the zero predictor's accuracy reveals that the logistic regression classifier performs better. The logistic regression classifier (`my_model`) achieves a higher accuracy compared to the zero predictor.\n",
    "\n",
    "The classifier's poor performance can be attributed to the inadequacy of the given word features in the email dataset. These features are not sufficiently prevalent or distinctive. If the words are rarely found, or if they occur at similar rates in both spam and non-spam (ham) emails, they fail to effectively distinguish between the two categories. Consequently, the classifier struggles due to this absence of strong distinguishing characteristics in the features, hindering its ability to learn and accurately separate spam from ham emails.\n",
    "\n",
    "The logistic regression classifier has a higher precision compared to the zero_predictor classifier, which means a higher proportion of emails flagged as spam are actually spam. This would reduce the number of false positives and minimize the chance of accidentally filtering out important non-spam emails. More crucial in this context are the recall and precision metrics. Recall, which measures the proportion of actual spam emails correctly identified, is significantly better in the logistic regression model compared to the zero predictor, which has a recall of 0%. This implies that the logistic regression model is capable of identifying some spam emails correctly. Precision at 64%, indicates that when the logistic regression model labels an email as spam, it is correct about two-thirds of the time."
   ]
  },
  {
   "cell_type": "markdown",
   "id": "b3c66712",
   "metadata": {},
   "source": [
    "# Section 2: Building a Complex Model using Feature Engineering, Classification, and Cross-Validation"
   ]
  },
  {
   "cell_type": "markdown",
   "id": "457c8017",
   "metadata": {
    "nbgrader": {
     "grade": false,
     "grade_id": "proj2",
     "locked": true,
     "schema_version": 2,
     "solution": false
    }
   },
   "source": [
    "<hr style=\"border: 5px solid #003262;\" />\n",
    "<hr style=\"border: 1px solid #fdb515;\" />\n",
    "\n",
    "## Introduction\n",
    "In this section, I will build and improve on the concepts and functions I implemented in Section 1 to create my complex classifier to distinguish spam emails from ham (non-spam) emails.\n",
    "After this section, I should feel comfortable with the following:\n",
    "\n",
    "- Using `sklearn` libraries to process data and fit classification models,\n",
    "- Validating the performance of your model and minimizing overfitting, and\n",
    "- Generating and analyzing ROC curves."
   ]
  },
  {
   "cell_type": "code",
   "execution_count": 50,
   "id": "232349d6",
   "metadata": {
    "ExecuteTime": {
     "end_time": "2019-04-03T20:17:41.341673Z",
     "start_time": "2019-04-03T20:17:41.330307Z"
    },
    "nbgrader": {
     "grade": false,
     "grade_id": "imports",
     "locked": true,
     "schema_version": 2,
     "solution": false
    }
   },
   "outputs": [],
   "source": [
    "import numpy as np\n",
    "import pandas as pd\n",
    "import sys\n",
    "\n",
    "import matplotlib.pyplot as plt\n",
    "%matplotlib inline\n",
    "\n",
    "import seaborn as sns\n",
    "sns.set(style = \"whitegrid\", \n",
    "        color_codes = True,\n",
    "        font_scale = 1.5)\n",
    "\n",
    "from datetime import datetime\n",
    "from IPython.display import display, HTML"
   ]
  },
  {
   "cell_type": "markdown",
   "id": "9c388260",
   "metadata": {
    "nbgrader": {
     "grade": false,
     "grade_id": "loading",
     "locked": true,
     "schema_version": 2,
     "solution": false
    }
   },
   "source": [
    "## Loading and Cleaning Data\n",
    "\n",
    "Remember that in email classification, my goal was to classify emails as spam or not spam (referred to as \"ham\") using features generated from the text in the email.\n",
    "\n",
    "The dataset consisted of email messages and their labels (0 for ham, 1 for spam). The labeled training dataset contained 8,348 labeled examples, and the unlabeled test set contained 1,000 unlabeled examples.\n",
    "\n",
    "I ran the following cell to load the data into a `DataFrame`.\n",
    "\n",
    "The `train` `DataFrame` contained labeled data that I used to train my model. It contained four columns:\n",
    "\n",
    "1. `id`: An identifier for the training example.\n",
    "2. `subject`: The subject of the email.\n",
    "3. `email`: The text of the email.\n",
    "4. `spam`: 1 if the email was spam, 0 if the email was ham (not spam).\n",
    "\n",
    "The `test` `DataFrame` contained 1,000 unlabeled emails. I predicted labels for these emails and submitted my predictions to the autograder for evaluation."
   ]
  },
  {
   "cell_type": "code",
   "execution_count": 51,
   "id": "6e88c8db",
   "metadata": {},
   "outputs": [],
   "source": [
    "import zipfile\n",
    "with zipfile.ZipFile('spam_ham_data.zip') as item:\n",
    "    item.extractall()"
   ]
  },
  {
   "cell_type": "code",
   "execution_count": 52,
   "id": "863a8742",
   "metadata": {},
   "outputs": [
    {
     "data": {
      "text/html": [
       "<div>\n",
       "<style scoped>\n",
       "    .dataframe tbody tr th:only-of-type {\n",
       "        vertical-align: middle;\n",
       "    }\n",
       "\n",
       "    .dataframe tbody tr th {\n",
       "        vertical-align: top;\n",
       "    }\n",
       "\n",
       "    .dataframe thead th {\n",
       "        text-align: right;\n",
       "    }\n",
       "</style>\n",
       "<table border=\"1\" class=\"dataframe\">\n",
       "  <thead>\n",
       "    <tr style=\"text-align: right;\">\n",
       "      <th></th>\n",
       "      <th>id</th>\n",
       "      <th>subject</th>\n",
       "      <th>email</th>\n",
       "      <th>spam</th>\n",
       "    </tr>\n",
       "  </thead>\n",
       "  <tbody>\n",
       "    <tr>\n",
       "      <th>0</th>\n",
       "      <td>0</td>\n",
       "      <td>Subject: A&amp;L Daily to be auctioned in bankrupt...</td>\n",
       "      <td>url: http://boingboing.net/#85534171\\n date: n...</td>\n",
       "      <td>0</td>\n",
       "    </tr>\n",
       "    <tr>\n",
       "      <th>1</th>\n",
       "      <td>1</td>\n",
       "      <td>Subject: Wired: \"Stronger ties between ISPs an...</td>\n",
       "      <td>url: http://scriptingnews.userland.com/backiss...</td>\n",
       "      <td>0</td>\n",
       "    </tr>\n",
       "    <tr>\n",
       "      <th>2</th>\n",
       "      <td>2</td>\n",
       "      <td>Subject: It's just too small                  ...</td>\n",
       "      <td>&lt;html&gt;\\n &lt;head&gt;\\n &lt;/head&gt;\\n &lt;body&gt;\\n &lt;font siz...</td>\n",
       "      <td>1</td>\n",
       "    </tr>\n",
       "    <tr>\n",
       "      <th>3</th>\n",
       "      <td>3</td>\n",
       "      <td>Subject: liberal defnitions\\n</td>\n",
       "      <td>depends on how much over spending vs. how much...</td>\n",
       "      <td>0</td>\n",
       "    </tr>\n",
       "    <tr>\n",
       "      <th>4</th>\n",
       "      <td>4</td>\n",
       "      <td>Subject: RE: [ILUG] Newbie seeks advice - Suse...</td>\n",
       "      <td>hehe sorry but if you hit caps lock twice the ...</td>\n",
       "      <td>0</td>\n",
       "    </tr>\n",
       "  </tbody>\n",
       "</table>\n",
       "</div>"
      ],
      "text/plain": [
       "   id                                            subject  \\\n",
       "0   0  Subject: A&L Daily to be auctioned in bankrupt...   \n",
       "1   1  Subject: Wired: \"Stronger ties between ISPs an...   \n",
       "2   2  Subject: It's just too small                  ...   \n",
       "3   3                      Subject: liberal defnitions\\n   \n",
       "4   4  Subject: RE: [ILUG] Newbie seeks advice - Suse...   \n",
       "\n",
       "                                               email  spam  \n",
       "0  url: http://boingboing.net/#85534171\\n date: n...     0  \n",
       "1  url: http://scriptingnews.userland.com/backiss...     0  \n",
       "2  <html>\\n <head>\\n </head>\\n <body>\\n <font siz...     1  \n",
       "3  depends on how much over spending vs. how much...     0  \n",
       "4  hehe sorry but if you hit caps lock twice the ...     0  "
      ]
     },
     "execution_count": 52,
     "metadata": {},
     "output_type": "execute_result"
    }
   ],
   "source": [
    "original_training_data = pd.read_csv('train.csv')\n",
    "test = pd.read_csv('test.csv')\n",
    "\n",
    "# Convert the emails to lowercase as the first step of text processing.\n",
    "original_training_data['email'] = original_training_data['email'].str.lower()\n",
    "test['email'] = test['email'].str.lower()\n",
    "\n",
    "original_training_data.head()"
   ]
  },
  {
   "cell_type": "code",
   "execution_count": 53,
   "id": "e6a23b09",
   "metadata": {
    "ExecuteTime": {
     "end_time": "2019-04-03T20:17:42.203231Z",
     "start_time": "2019-04-03T20:17:42.185104Z"
    },
    "nbgrader": {
     "grade": false,
     "grade_id": "cell-b1fb39d9b651ca1b",
     "locked": false,
     "schema_version": 2,
     "solution": true
    }
   },
   "outputs": [
    {
     "name": "stdout",
     "output_type": "stream",
     "text": [
      "Before imputation:\n",
      "id         0\n",
      "subject    6\n",
      "email      0\n",
      "spam       0\n",
      "dtype: int64\n",
      "------------\n",
      "After imputation:\n",
      "id         0\n",
      "subject    0\n",
      "email      0\n",
      "spam       0\n",
      "dtype: int64\n"
     ]
    }
   ],
   "source": [
    "# Fill any missing or NAN values.\n",
    "print('Before imputation:')\n",
    "print(original_training_data.isnull().sum())\n",
    "original_training_data = original_training_data.fillna('')\n",
    "print('------------')\n",
    "print('After imputation:')\n",
    "print(original_training_data.isnull().sum())"
   ]
  },
  {
   "cell_type": "markdown",
   "id": "c3ce6826",
   "metadata": {},
   "source": [
    "## Training/Validation Split\n",
    "\n",
    "Recall that the training data I downloaded was all the data I had available for both training models and **validating** the models that I trained. Therefore, I split the training data into separate training and validation datasets. I needed this **validation data** to assess the performance of my classifier once I finished training.\n",
    "\n",
    "As in section 1, I set the seed (`random_state`) to 42 to ensure reproducibility."
   ]
  },
  {
   "cell_type": "code",
   "execution_count": 54,
   "id": "62272588",
   "metadata": {
    "ExecuteTime": {
     "end_time": "2019-04-03T20:17:42.317970Z",
     "start_time": "2019-04-03T20:17:42.294532Z"
    },
    "nbgrader": {
     "grade": false,
     "grade_id": "cell-873194ed3e686dfb",
     "locked": true,
     "schema_version": 2,
     "solution": false
    }
   },
   "outputs": [],
   "source": [
    "# This creates a 90/10 train-validation split on our labeled data.\n",
    "from sklearn.model_selection import train_test_split\n",
    "train, val = train_test_split(original_training_data, test_size = 0.1, random_state = 42)\n",
    "\n",
    "# We must do this in order to preserve the ordering of emails to labels for words_in_texts.\n",
    "train = train.reset_index(drop = True)"
   ]
  },
  {
   "cell_type": "markdown",
   "id": "ad7d5c9b",
   "metadata": {
    "nbgrader": {
     "grade": false,
     "grade_id": "feat-eng",
     "locked": true,
     "schema_version": 2,
     "solution": false
    }
   },
   "source": [
    "## Feature Engineering\n",
    "\n",
    "We need a numeric feature matrix $\\mathbb{X}$ and a vector of corresponding binary labels $\\mathbb{Y}$ to train a logistic regression model. In section 1, I implemented the function `words_in_texts`, which creates numeric features derived from the email text and uses those features for logistic regression."
   ]
  },
  {
   "cell_type": "code",
   "execution_count": 55,
   "id": "83a1b56e",
   "metadata": {},
   "outputs": [
    {
     "data": {
      "text/plain": [
       "array([[1, 0, 0],\n",
       "       [1, 0, 1]])"
      ]
     },
     "execution_count": 55,
     "metadata": {},
     "output_type": "execute_result"
    }
   ],
   "source": [
    "words_in_texts(['hello', 'bye', 'world'], pd.Series(['hello', 'hello worldhello']))"
   ]
  },
  {
   "cell_type": "markdown",
   "id": "c8b3ddb2",
   "metadata": {
    "nbgrader": {
     "grade": false,
     "grade_id": "classification",
     "locked": true,
     "schema_version": 2,
     "solution": false
    }
   },
   "source": [
    "## EDA and Basic Classification\n",
    "\n",
    "In section 1, I proceeded to visualize the frequency of different words for both spam and ham emails and used `words_in_texts(words, train['email'])` directly to train a classifier. I also provided a simple set of 5 words that might be useful as features to distinguish spam/ham emails.\n",
    "\n",
    "I then built a model using the [`LogisticRegression`](http://scikit-learn.org/stable/modules/generated/sklearn.linear_model.LogisticRegression.html) classifier from `sklearn`."
   ]
  },
  {
   "cell_type": "code",
   "execution_count": 56,
   "id": "14d3ce63",
   "metadata": {
    "ExecuteTime": {
     "end_time": "2019-04-03T20:17:43.726012Z",
     "start_time": "2019-04-03T20:17:43.498088Z"
    },
    "nbgrader": {
     "grade": false,
     "grade_id": "q4-answer",
     "locked": false,
     "schema_version": 2,
     "solution": true
    },
    "tags": [
     "student"
    ]
   },
   "outputs": [
    {
     "data": {
      "text/plain": [
       "(array([[0, 0, 0, 0, 0],\n",
       "        [0, 0, 0, 0, 0],\n",
       "        [0, 0, 0, 0, 0],\n",
       "        [0, 0, 0, 0, 0],\n",
       "        [0, 0, 0, 1, 0]]),\n",
       " array([0, 0, 0, 0, 0]))"
      ]
     },
     "execution_count": 56,
     "metadata": {},
     "output_type": "execute_result"
    }
   ],
   "source": [
    "some_words = ['drug', 'bank', 'prescription', 'memo', 'private']\n",
    "\n",
    "X_train = words_in_texts(some_words, train['email'])\n",
    "Y_train = np.array(train['spam'])\n",
    "\n",
    "X_train[:5], Y_train[:5]"
   ]
  },
  {
   "cell_type": "code",
   "execution_count": 57,
   "id": "6b6fcef0",
   "metadata": {
    "ExecuteTime": {
     "end_time": "2019-04-03T20:17:44.593918Z",
     "start_time": "2019-04-03T20:17:43.783872Z"
    },
    "nbgrader": {
     "grade": false,
     "grade_id": "q5-answer",
     "locked": false,
     "schema_version": 2,
     "solution": true
    },
    "tags": [
     "student"
    ]
   },
   "outputs": [
    {
     "name": "stdout",
     "output_type": "stream",
     "text": [
      "Training Accuracy:  0.7576201251164648\n"
     ]
    }
   ],
   "source": [
    "from sklearn.linear_model import LogisticRegression\n",
    "\n",
    "model = LogisticRegression()\n",
    "model.fit(X_train, Y_train)\n",
    "\n",
    "training_accuracy = model.score(X_train, Y_train)\n",
    "print(\"Training Accuracy: \", training_accuracy)"
   ]
  },
  {
   "cell_type": "markdown",
   "id": "6cbdc302",
   "metadata": {},
   "source": [
    "## Evaluating Classifiers"
   ]
  },
  {
   "cell_type": "markdown",
   "id": "e5a6370a",
   "metadata": {},
   "source": [
    "In our models, we are evaluating the accuracy of the training set, which may provide a misleading accuracy measure. In section 1, we calculated various metrics to lead us to consider more ways of evaluating a classifier, in addition to overall accuracy. Below is a reference to those concepts.\n",
    "\n",
    "Presumably, our classifier will be used for **filtering**, i.e., preventing messages labeled `spam` from reaching someone's inbox. There are two kinds of errors we can make:\n",
    "- **False positive (FP)**: A ham email gets flagged as spam and filtered out of the inbox.\n",
    "- **False negative (FN)**: A spam email gets mislabeled as ham and ends up in the inbox.\n",
    "\n",
    "To be clear, we label spam emails as 1 and ham emails as 0. These definitions depend both on the true labels and the predicted labels. False positives and false negatives may be of differing importance, leading us to consider more ways of evaluating a classifier in addition to overall accuracy:\n",
    "\n",
    "**Precision**: Measures the proportion of emails flagged as spam that are actually spam. Mathematically, $\\frac{\\text{TP}}{\\text{TP} + \\text{FP}}$.\n",
    "\n",
    "**Recall**: Measures the proportion of spam emails that were correctly flagged as spam. Mathematically, $\\frac{\\text{TP}}{\\text{TP} + \\text{FN}}$.\n",
    "\n",
    "**False positive rate**: Measures the proportion of ham emails that were incorrectly flagged as spam. Mathematically, $\\frac{\\text{FP}}{\\text{FP} + \\text{TN}}$.\n",
    "\n",
    "The below graphic (modified slightly from [Wikipedia](https://en.wikipedia.org/wiki/Precision_and_recall)) may help you understand precision and recall visually:<br />\n",
    "<center>\n",
    "<img alt=\"precision_recall\" src=\"precision_recall.png\" width=\"600px;\" />\n",
    "</center>\n",
    "\n",
    "Note that a True Positive (TP) is a spam email that is classified as spam, and a True Negative (TN) is a ham email that is classified as ham."
   ]
  },
  {
   "cell_type": "markdown",
   "id": "07006e3c",
   "metadata": {
    "nbgrader": {
     "grade": false,
     "grade_id": "p2",
     "locked": true,
     "schema_version": 2,
     "solution": false
    }
   },
   "source": [
    "<hr style=\"border: 1px solid #fdb515;\" />\n",
    "\n",
    "## Building my Improved Model\n",
    "\n",
    "With this in mind, it is now my task to make the spam filter more accurate. To achieve a high level of accuracy, I aim to get at least **85%** accuracy on both the train and test sets. To see my accuracy on the test set, I will use my classifier to predict every email in the `test` `DataFrame`.\n",
    "\n",
    "Here are some ideas for improving my model:\n",
    "\n",
    "1. Finding better features based on the email text. Some example features are:\n",
    "    - Number of characters in the subject/body\n",
    "    - Number of words in the subject/body\n",
    "    - Use of punctuation (e.g., how many '!'s were there?)\n",
    "    - Number/percentage of capital letters \n",
    "    - Whether the email is a reply to an earlier email or a forwarded email\n",
    "2. Finding better (and/or more) words to use as features. Which words are the best at distinguishing emails? This requires digging into the email text itself.\n",
    "3. Better data processing. For example, many emails contain HTML as well as text. I can consider extracting the text from the HTML to help find better words. Or, I can match HTML tags themselves, or even some combination of the two.\n",
    "4. Model selection. I can adjust the parameters of my model (e.g., the penalty type, the regularization parameter, or any arguments in `LogisticRegression`) to achieve higher accuracy. Recall that I should use cross-validation to do feature and model selection properly! Otherwise, I will likely overfit to my training data.\n",
    "    - I have imported `GridSearchCV`. I can use sklearn's `GridSearchCV` ([documentation](https://scikit-learn.org/stable/modules/generated/sklearn.model_selection.GridSearchCV.html)) class to perform cross-validation. \n",
    "\n",
    "Here's an example of how to use `GridSearchCV`. Suppose I wanted to experiment with 3 different solvers (numerical methods for optimizing the model) for a `LogisticRegression` model `lr_model`:\n",
    "1. I could define a dictionary specifying the hyperparameters and the specific values I want to try out like so: `parameters = {'solver': ['lbfgs', 'liblinear', 'newton-cg', 'saga']}`.\n",
    "2. Running `grid = GridSearchCV(estimator=lr_model, param_grid=parameters)` would give me a model for each combination of hyperparameters I am testing - in this case, just 4 models.\n",
    "3. I fit each model to some training data `X_train` and `Y_train` using `grid_result = grid.fit(X_train, Y_train)`.\n",
    "4. Indexing into `grid_result.cv_results_` with a particular metric (in this case, `mean_test_score`), I get an array with the scores corresponding to each of the models: `grid_result.cv_results_['mean_test_score']`."
   ]
  },
  {
   "cell_type": "code",
   "execution_count": 58,
   "id": "769905a7",
   "metadata": {},
   "outputs": [],
   "source": [
    "# import libraries\n",
    "from sklearn.preprocessing import OneHotEncoder\n",
    "from sklearn.linear_model import LogisticRegression\n",
    "from sklearn.metrics import accuracy_score, roc_curve\n",
    "from sklearn.model_selection import GridSearchCV\n",
    "import re\n",
    "from collections import Counter"
   ]
  },
  {
   "cell_type": "code",
   "execution_count": 59,
   "id": "f53bd8cf",
   "metadata": {},
   "outputs": [
    {
     "data": {
      "text/plain": [
       "<BarContainer object of 2 artists>"
      ]
     },
     "execution_count": 59,
     "metadata": {},
     "output_type": "execute_result"
    },
    {
     "data": {
      "image/png": "[encoded data removed]",
      "text/plain": [
       "<Figure size 640x480 with 1 Axes>"
      ]
     },
     "metadata": {},
     "output_type": "display_data"
    }
   ],
   "source": [
    "import pandas as pd\n",
    "import numpy as np\n",
    "import matplotlib.pyplot as plt\n",
    "\n",
    "def find_capital_letters(text):\n",
    "    if pd.isna(text):\n",
    "        return 0\n",
    "    return len([char for char in text if char.isupper()])\n",
    "\n",
    "\n",
    "def calculate_capital_letters_proportion(data, spam, threshold):\n",
    "    filtered_data = data[data['spam'] == spam]\n",
    "    count_above_threshold = len(filtered_data[filtered_data['capitals'] > threshold])\n",
    "    proportion = count_above_threshold / len(filtered_data)\n",
    "    return proportion\n",
    "\n",
    "train['capitals'] = train['subject'].apply(find_capital_letters)\n",
    "\n",
    "spam_proportion = calculate_capital_letters_proportion(train, spam=1, threshold=6)\n",
    "ham_proportion = calculate_capital_letters_proportion(train, spam=0, threshold=6)\n",
    "\n",
    "plt.bar(['Spam', 'Ham'], [spam_proportion, ham_proportion])"
   ]
  },
  {
   "cell_type": "code",
   "execution_count": 60,
   "id": "98a047f2",
   "metadata": {},
   "outputs": [
    {
     "name": "stdout",
     "output_type": "stream",
     "text": [
      "Spam Proportion: 0.6970802919708029\n",
      "Ham Proportion: 0.2611260053619303\n"
     ]
    },
    {
     "data": {
      "text/plain": [
       "<BarContainer object of 2 artists>"
      ]
     },
     "execution_count": 60,
     "metadata": {},
     "output_type": "execute_result"
    },
    {
     "data": {
      "image/png": "[encoded data removed]",
      "text/plain": [
       "<Figure size 640x480 with 1 Axes>"
      ]
     },
     "metadata": {},
     "output_type": "display_data"
    }
   ],
   "source": [
    "def process_emails(data, spam_filter):\n",
    "    filtered_data = data.copy()\n",
    "    filtered_data = filtered_data[filtered_data['spam'] == spam_filter]\n",
    "    filtered_data['equals'] = filtered_data['email'].str.findall(r\"=\")\n",
    "    filtered_data['equals'] = filtered_data['equals'].apply(lambda x: int(len(x) > 1))\n",
    "    return sum(filtered_data['equals']) / len(filtered_data['equals'])\n",
    "\n",
    "spam_proportion = process_emails(train, spam_filter=1)\n",
    "ham_proportion = process_emails(train, spam_filter=0)\n",
    "\n",
    "print(\"Spam Proportion:\", spam_proportion)\n",
    "print(\"Ham Proportion:\", ham_proportion)\n",
    "\n",
    "plt.bar(['Spam', 'Ham'], [spam_proportion, ham_proportion])"
   ]
  },
  {
   "cell_type": "code",
   "execution_count": 61,
   "id": "ddadffa5",
   "metadata": {},
   "outputs": [
    {
     "name": "stdout",
     "output_type": "stream",
     "text": [
      "Spam Punctuation Description:\n",
      " count     1918.000000\n",
      "mean       659.112096\n",
      "std        944.967542\n",
      "min          1.000000\n",
      "25%         85.000000\n",
      "50%        295.500000\n",
      "75%        889.750000\n",
      "max      11730.000000\n",
      "Name: punctuation, dtype: float64\n",
      "Ham Punctuation Description:\n",
      " count      5595.000000\n",
      "mean        434.464343\n",
      "std        3409.520074\n",
      "min           4.000000\n",
      "25%          39.000000\n",
      "50%          79.000000\n",
      "75%         165.000000\n",
      "max      169145.000000\n",
      "Name: punctuation, dtype: float64\n"
     ]
    }
   ],
   "source": [
    "def process_punctuation(data, spam_filter):\n",
    "    filtered_data = data.copy()\n",
    "    filtered_data = filtered_data[filtered_data['spam'] == spam_filter]\n",
    "    filtered_data['punctuation'] = filtered_data['email'].str.findall(r\"[^\\w\\s]\")\n",
    "    punctuation_lengths = filtered_data['punctuation'].apply(lambda x: len(x))\n",
    "    return punctuation_lengths.describe()\n",
    "\n",
    "spam_punctuation_desc = process_punctuation(train, spam_filter=1)\n",
    "ham_punctuation_desc = process_punctuation(train, spam_filter=0)\n",
    "\n",
    "print(\"Spam Punctuation Description:\\n\", spam_punctuation_desc)\n",
    "print(\"Ham Punctuation Description:\\n\", ham_punctuation_desc)"
   ]
  },
  {
   "cell_type": "code",
   "execution_count": 62,
   "id": "e6abbefb",
   "metadata": {},
   "outputs": [
    {
     "name": "stdout",
     "output_type": "stream",
     "text": [
      "Spam Punctuation Counts:\n",
      " punctuation\n",
      "=    198907\n",
      ">    173766\n",
      "<    173111\n",
      "\"    155333\n",
      "/    150325\n",
      "      ...  \n",
      "         1\n",
      "         1\n",
      "ֶ         1\n",
      "ٌ         1\n",
      "         1\n",
      "Name: count, Length: 208, dtype: int64\n",
      "Ham Punctuation Counts:\n",
      " punctuation\n",
      "/    597062\n",
      "\"    263156\n",
      ">    245589\n",
      "-    244485\n",
      ".    230734\n",
      "=    229761\n",
      "<    187666\n",
      ",     90190\n",
      ":     88829\n",
      "'     35455\n",
      "#     31868\n",
      ";     25007\n",
      "&     19067\n",
      "?     18283\n",
      ")     16397\n",
      "*     16347\n",
      "(     16230\n",
      "!     11680\n",
      "@     10407\n",
      "+      9642\n",
      "%      8675\n",
      "$      7821\n",
      "]      5900\n",
      "[      5318\n",
      "|      3690\n",
      "}      2483\n",
      "{      2476\n",
      "\\      2139\n",
      "~      1683\n",
      "\u001b      1330\n",
      "`       717\n",
      "^       689\n",
      "«        15\n",
      "»        15\n",
      "\b        11\n",
      "£         3\n",
      "\u0013         2\n",
      "\u0014         2\n",
      "·         2\n",
      "\u0018         2\n",
      "Name: count, dtype: int64\n",
      "Spam Punctuation Total: 1264177\n",
      "Ham Punctuation Total: 2430828\n"
     ]
    }
   ],
   "source": [
    "def count_punctuation_frequency(data, spam_filter):\n",
    "    filtered_data = data.copy()\n",
    "    filtered_data['punctuation'] = filtered_data[filtered_data['spam'] == spam_filter]['email'].str.findall(r\"[^\\w\\s]\")\n",
    "    filtered_data_exploded = filtered_data.explode('punctuation')\n",
    "    counts = filtered_data_exploded['punctuation'].value_counts()\n",
    "    total = counts.sum()\n",
    "    return counts, total\n",
    "\n",
    "spam_punctuation_counts, spam_total = count_punctuation_frequency(train, spam_filter=1)\n",
    "ham_punctuation_counts, ham_total = count_punctuation_frequency(train, spam_filter=0)\n",
    "\n",
    "print(\"Spam Punctuation Counts:\\n\", spam_punctuation_counts)\n",
    "print(\"Ham Punctuation Counts:\\n\", ham_punctuation_counts)\n",
    "print(\"Spam Punctuation Total:\", spam_total)\n",
    "print(\"Ham Punctuation Total:\", ham_total)"
   ]
  },
  {
   "cell_type": "code",
   "execution_count": 63,
   "id": "9cfc4f88",
   "metadata": {},
   "outputs": [
    {
     "name": "stdout",
     "output_type": "stream",
     "text": [
      "0.17605004468275245\n",
      "0.5276329509906152\n",
      "7513\n",
      "7513\n"
     ]
    }
   ],
   "source": [
    "def calculate_email_length_proportion(data, spam, threshold):\n",
    "    filtered = data[(data['spam'] == spam) & (data['email'].str.len() > threshold)]\n",
    "    return len(filtered) / len(data[data['spam'] == spam])\n",
    "\n",
    "train_email_length_prop_spam = calculate_email_length_proportion(train, spam=1, threshold=2500)\n",
    "train_email_length_prop_ham = calculate_email_length_proportion(train, spam=0, threshold=2500)\n",
    "print(train_email_length_prop_ham)\n",
    "print(train_email_length_prop_spam)\n",
    "\n",
    "def value_setter(email):\n",
    "    if len(email) < 2200:\n",
    "        return 0\n",
    "    else:\n",
    "        return 1\n",
    "\n",
    "train_copy = train.copy()\n",
    "train_copy['length'] = train_copy['email'].apply(value_setter)\n",
    "length_array = np.array(train_copy['length'])\n",
    "\n",
    "print(len(train_copy))\n",
    "print(len(length_array))"
   ]
  },
  {
   "cell_type": "code",
   "execution_count": 64,
   "id": "2737473e",
   "metadata": {},
   "outputs": [
    {
     "name": "stdout",
     "output_type": "stream",
     "text": [
      "Spam punctuation proportion: 0.6970802919708029\n",
      "Ham punctuation proportion: 0.2611260053619303\n"
     ]
    },
    {
     "data": {
      "text/plain": [
       "<BarContainer object of 2 artists>"
      ]
     },
     "execution_count": 64,
     "metadata": {},
     "output_type": "execute_result"
    },
    {
     "data": {
      "image/png": "[encoded data removed]",
      "text/plain": [
       "<Figure size 640x480 with 1 Axes>"
      ]
     },
     "metadata": {},
     "output_type": "display_data"
    }
   ],
   "source": [
    "def count_punctuation_marks(df):\n",
    "    df['punc_count'] = df['email'].str.count(r'[^\\w\\s]')\n",
    "    return df\n",
    "\n",
    "train = count_punctuation_marks(train)\n",
    "val = count_punctuation_marks(val)\n",
    "\n",
    "train_spam_punc_counts = train[train['spam'] == 1]['punc_count']\n",
    "train_ham_punc_counts = train[train['spam'] == 0]['punc_count']\n",
    "\n",
    "spam_proportions = (train_spam_punc_counts > 200).sum() / len(train_spam_punc_counts)\n",
    "ham_proportions = (train_ham_punc_counts > 200).sum() / len(train_ham_punc_counts)\n",
    "\n",
    "print(\"Spam punctuation proportion:\", spam_proportion)\n",
    "print(\"Ham punctuation proportion:\", ham_proportion)\n",
    "\n",
    "plt.bar(['Spam', 'Ham'], [spam_proportion, ham_proportion])"
   ]
  },
  {
   "cell_type": "code",
   "execution_count": 65,
   "id": "3d1702fd",
   "metadata": {},
   "outputs": [
    {
     "name": "stderr",
     "output_type": "stream",
     "text": [
      "/srv/conda/envs/notebook/lib/python3.11/site-packages/sklearn/linear_model/_logistic.py:458: ConvergenceWarning: lbfgs failed to converge (status=1):\n",
      "STOP: TOTAL NO. of ITERATIONS REACHED LIMIT.\n",
      "\n",
      "Increase the number of iterations (max_iter) or scale the data as shown in:\n",
      "    https://scikit-learn.org/stable/modules/preprocessing.html\n",
      "Please also refer to the documentation for alternative solver options:\n",
      "    https://scikit-learn.org/stable/modules/linear_model.html#logistic-regression\n",
      "  n_iter_i = _check_optimize_result(\n"
     ]
    },
    {
     "name": "stdout",
     "output_type": "stream",
     "text": [
      "Training Accuracy:  0.9170770664182084\n",
      "Validation Accuracy:  0.9089820359281438\n"
     ]
    }
   ],
   "source": [
    "from sklearn.linear_model import LogisticRegression\n",
    "\n",
    "keywords = [\"<html>\", \"</html>\", \"<body>\", \"</body>\", \"<font>\", \"</font>\", \"i'm \", \"i'd \", \"he\", \"she\",\n",
    "\"VIP\", \"click\", \"i \", \"body\", \"wrote\", \"align\", \"act\", \"money\", \"hollywood\",\n",
    "\"love\", \"hey\", \"subject:\", \"from:\", \"know\", \"privacy\", \"black\", \"arial\",\n",
    "\"password\", \"member\", \"am\", \"Re:\", \"Fw:\", \"said\", \"sorry\", \"cancel\",\n",
    "\"paid\", \"discount\", \"free\", \"benefit\", \"promise\", \"hot\", \"exciting\", \"you\", \"him\", \"they\",\n",
    "\"a\", \"an\", \"'t\", \"n't\", \"and\", \"but\", \"subscribe\", \"online\", \"contact\",\n",
    "\"!\", \"3d\", \"size\", \"font\", \"&\", \"td\", \"text/html\", \"</p>\", \"Content-Type\"]\n",
    "\n",
    "def preprocess_data(data, keywords):\n",
    "    feature_matrix = words_in_texts(keywords, data['email'])\n",
    "    data_copy = data.copy()\n",
    "    data_copy['equals'] = data['email'].str.count(r\"=\")\n",
    "    data_copy['length'] = data['email'].apply(len)\n",
    "    data_copy['punctuation'] = data['email'].str.count(r\"[^\\w\\s]\")\n",
    "    feature_matrix = np.concatenate((feature_matrix, np.array(data_copy['length'] > 2600).reshape(-1, 1)), axis=1)\n",
    "    feature_matrix = np.concatenate((feature_matrix, np.array(data_copy['equals'] > 1).reshape(-1, 1)), axis=1)\n",
    "\n",
    "    return feature_matrix\n",
    "X_train = preprocess_data(train, keywords)\n",
    "Y_train = np.array(train['spam'])\n",
    "\n",
    "model = LogisticRegression(solver='lbfgs')\n",
    "model.fit(X_train, Y_train)\n",
    "\n",
    "X_val = preprocess_data(val, keywords)\n",
    "Y_val = np.array(val['spam'])\n",
    "\n",
    "train_accuracy = model.score(X_train, Y_train)\n",
    "print(\"Training Accuracy: \", train_accuracy)\n",
    "\n",
    "validation_accuracy = model.score(X_val, Y_val)\n",
    "print(\"Validation Accuracy: \", validation_accuracy)"
   ]
  },
  {
   "cell_type": "markdown",
   "id": "ceb46549",
   "metadata": {},
   "source": [
    "## Detailed Steps:\n",
    "1. I began by conducting an exploratory data analysis on the email dataset to uncover patterns and potential features that could enhance my model. This process included visualizing the frequency of words, studying the structure of the emails, and scrutinizing various aspects such as punctuation, capitalization, and the length of emails. To extract particular features, I contemplated devising custom functions. My investigation into spam involved analyzing the content and subjects of spam emails to identify commonly used words. Conversely, I analyzed non-spam (ham) messages and subjects to determine words and symbols frequently found in them. These findings were then compiled into distinct lists, which were applied separately to the subjects and bodies of the emails.\n",
    "\n",
    "2. I tried several approaches to improve the model. Some worked, while others did not yield significant improvements. I experimented with different combinations of features, such as word frequencies, text length, and capitalization, and assessed their impact on the model's performance. I attempted to use regular expressions to extract punctuation and examine words to differentiate them, but this method was ineffective. This was due to the inability to generate a feature based on whether or not the word exists in the dictionary. If I had been able to develop such a feature, I could have more accurately identified spam emails.\n",
    "\n",
    "3. In my search for good features, it was surprising to find that certain features, which I initially thought would be significant in distinguishing spam from ham emails, did not contribute much to the model's performance. Conversely, I also discovered unexpected features that greatly improved the accuracy of the model. It was fascinating to see how certain words, text patterns, or other email characteristics played a crucial role in accurately classifying spam and ham emails.\n"
   ]
  },
  {
   "cell_type": "markdown",
   "id": "b93e993a",
   "metadata": {
    "deletable": false,
    "editable": false,
    "nbgrader": {
     "grade": false,
     "grade_id": "q8",
     "locked": true,
     "schema_version": 2,
     "solution": false
    }
   },
   "source": [
    "## Exploratory Data Analysis using Visualization\n",
    "\n",
    "In the cells below, I show a visualization I used to select features for my model. "
   ]
  },
  {
   "cell_type": "markdown",
   "id": "950fede3",
   "metadata": {},
   "source": [
    "### Assessing Features with Significant Correlation with Spam Indicator\n",
    "\n",
    "Primarily, I wanted to assess the features that have a significant correlation with the spam and ham indicator. For this, I conducted feature engineering and then merged the new dataset with the indicator. I used the `.corr` function to calculate the correlation and then filtered by including those features that have a correlation greater than 0.2. This is shown below."
   ]
  },
  {
   "cell_type": "code",
   "execution_count": 66,
   "id": "b12425b2",
   "metadata": {
    "ExecuteTime": {
     "end_time": "2019-04-02T00:27:36.170465Z",
     "start_time": "2019-04-02T00:27:36.167776Z"
    },
    "nbgrader": {
     "grade": true,
     "grade_id": "q8-eda",
     "locked": false,
     "points": 3,
     "schema_version": 2,
     "solution": true
    },
    "tags": [
     "student",
     "written",
     "q_eda1"
    ]
   },
   "outputs": [
    {
     "data": {
      "text/plain": [
       "Text(0.5, 0, 'Features')"
      ]
     },
     "execution_count": 66,
     "metadata": {},
     "output_type": "execute_result"
    },
    {
     "data": {
      "image/png": "[encoded data removed]",
      "text/plain": [
       "<Figure size 640x480 with 1 Axes>"
      ]
     },
     "metadata": {},
     "output_type": "display_data"
    }
   ],
   "source": [
    "emailwords = [\"<html>\", \"</html>\",\"<body>\", \"</body>\", \"<font>\", \"</font>\", \"i'm \", \"i'd \", \"he\", \"she\", \n",
    "                   \"VIP\", \"click\",\"i \",\"body\",\"wrote\",  \"align\", \"act\" , \"money\",\"hollywood\",\n",
    "                   \"love\",\"hey\" , \"subject:\", \"from:\", \"know\",\"privacy\",\"black\", \"arial\",\n",
    "                   \"password\",\"member\", \"am\", \"Re:\", \"Fw:\", \"said\", \"sorry\", \"cancel\",\n",
    "                   \"paid\", \"discount\", \"free\", \"benefit\", \"promise\", \"hot\", \"exciting\", \"you\", \"him\", \"they\", \n",
    "                  \"a\", \"an\", \"'t\", \"n't\", \"and\", \"but\", \"subscribe\", \"online\", \"contact\",\n",
    "                   \"!\", \"3d\", \"size\", \"font\", \"&\", \"td\", \"text/html\", \"</p>\", \"Content-Type\", \"length\", \"equals\"]\n",
    "processed_train_df = pd.DataFrame(X_train, columns=emailwords)\n",
    "processed_train_df[\"y\"] = Y_train\n",
    "correlation_train_df = processed_train_df.corr()\n",
    "correlation_train_df = abs(correlation_train_df)\n",
    "correlation_train_df = correlation_train_df.where(correlation_train_df[\"y\"] > 0.2)\n",
    "correlation_train_df = correlation_train_df[[\"y\"]].dropna().drop([\"y\"])\n",
    "correlation_train_df.plot.bar()\n",
    "plt.title(\"Correlation of features with spam/ham indicator\")\n",
    "plt.ylabel(\"Correlation\")\n",
    "plt.xlabel(\"Features\")"
   ]
  },
  {
   "cell_type": "markdown",
   "id": "abb1c878",
   "metadata": {},
   "source": [
    "This analysis helped me identify and select the most relevant features that have a significant impact on the spam classification model. By focusing on these features, I aimed to improve the accuracy and reliability of my spam filter."
   ]
  },
  {
   "cell_type": "markdown",
   "id": "e3a3347a",
   "metadata": {},
   "source": [
    "I also created a bar plot of all the features. This allowed me to reconfirm my belief that the features I have chosen in my general model have a good impact on the model's accuracy. By conducting cross-validation later, I also confirmed that these features do not overfit our dataset and are accurate for the test dataset."
   ]
  },
  {
   "cell_type": "markdown",
   "id": "3281c34d",
   "metadata": {},
   "source": [
    "### Plot: Correlation Heatmap of Email Features\n",
    "In the cell below, I included a visualization that helped me select features for my model. This plot shows the correlation between multiple features, which was crucial in understanding the relationships between different aspects of the email data."
   ]
  },
  {
   "cell_type": "code",
   "execution_count": 67,
   "id": "ff673347",
   "metadata": {},
   "outputs": [
    {
     "data": {
      "text/plain": [
       "<Axes: >"
      ]
     },
     "execution_count": 67,
     "metadata": {},
     "output_type": "execute_result"
    },
    {
     "data": {
      "image/png": "[encoded data removed]",
      "text/plain": [
       "<Figure size 640x480 with 2 Axes>"
      ]
     },
     "metadata": {},
     "output_type": "display_data"
    }
   ],
   "source": [
    "heatmap = processed_train_df.corr()\n",
    "sns.heatmap(heatmap)"
   ]
  },
  {
   "cell_type": "markdown",
   "id": "093912a9",
   "metadata": {},
   "source": [
    "## To Summarize:\n",
    "\n",
    "The primary goal was to build a model that can accurately classify emails as spam or ham based on certain features. To achieve this, we first perform feature engineering to identify and extract the most relevant features from the dataset.\n",
    "\n",
    "We start by calculating the correlation between each potential feature and the spam/ham indicator. To do this, we create a new data frame called `processed_train_df` and add a new column 'y' containing the target variable (`Y_train`). We then compute the correlation matrix using the `.corr()` method, and filter the features with a correlation coefficient greater than 0.2.\n",
    "\n",
    "Once we have identified the significant features, we visualize their correlation with the spam/ham indicator using a bar plot. This helps us better understand the relationship between each feature and the target variable, and confirms that the selected features have a strong impact on the model's accuracy.\n",
    "\n",
    "In addition to the bar plot, we also create a heatmap of the correlation matrix for all features. This visualization allows us to identify potential multicollinearity issues, which can adversely affect the performance of the model. By examining the heatmap, we can confirm that the selected features do not suffer from multicollinearity and are suitable for building the model.\n",
    "\n",
    "Finally, we implement cross-validation to further verify that the chosen features do not overfit the dataset and are generalizable to unseen data. This step is crucial to ensure that our model performs well on the test dataset and provides accurate spam/ham classifications."
   ]
  },
  {
   "cell_type": "markdown",
   "id": "f6107126",
   "metadata": {
    "deletable": false,
    "editable": false
   },
   "source": [
    "## ROC Curve\n",
    "\n",
    "In most cases, I wouldn't be able to get 0 false positives and 0 false negatives, so I had to compromise. For example, in the case of cancer screenings, false negatives are comparatively worse than false positives — a false negative means that a patient might not discover that they have cancer until it's too late. In contrast, a patient can receive another screening for a false positive.\n",
    "\n",
    "I recalled that logistic regression calculates the probability that an example belongs to a particular class. To classify an example, I would say that an email is spam if my classifier gives it $\\ge 0.5$ probability of being spam. However, **I could adjust that cutoff threshold**: I could say that an email is spam only if my classifier gives it $\\ge 0.7$ probability of being spam, for example. This is how I could trade off false positives and false negatives.\n",
    "\n",
    "The Receiver Operating Characteristic (ROC) curve shows this trade-off for each possible cutoff probability. In the cell below, I plotted an ROC curve for my final classifier (the one I used to make predictions) on the training data.\n"
   ]
  },
  {
   "cell_type": "code",
   "execution_count": 68,
   "id": "3cc4498c",
   "metadata": {
    "tags": []
   },
   "outputs": [
    {
     "data": {
      "image/png": "[encoded data removed]",
      "text/plain": [
       "<Figure size 640x480 with 1 Axes>"
      ]
     },
     "metadata": {},
     "output_type": "display_data"
    }
   ],
   "source": [
    "from sklearn.metrics import roc_curve\n",
    "\n",
    "predicted_probabilities = model.predict_proba(X_train)[:,1]\n",
    "\n",
    "false_positive_rate, true_positive_rate, thresholds = roc_curve(Y_train, predicted_probabilities, pos_label=1)\n",
    "\n",
    "plt.plot(false_positive_rate, true_positive_rate)\n",
    "plt.title(\"ROC Curve\")\n",
    "plt.xlabel('False Positive Rate')\n",
    "plt.ylabel('True Positive Rate')\n",
    "plt.show()"
   ]
  },
  {
   "cell_type": "markdown",
   "id": "8abd1366",
   "metadata": {
    "deletable": false,
    "editable": false,
    "tags": []
   },
   "source": [
    "### Model Accuracy\n",
    "\n",
    "I assigned my predictions for the class of each data point in the training set `train` to the variable `train_predictions`."
   ]
  },
  {
   "cell_type": "code",
   "execution_count": 69,
   "id": "e44e1693",
   "metadata": {
    "ExecuteTime": {
     "end_time": "2019-04-02T00:27:38.650695Z",
     "start_time": "2019-04-02T00:27:38.469233Z"
    },
    "nbgrader": {
     "grade": false,
     "grade_id": "q10-answer",
     "locked": false,
     "schema_version": 2,
     "solution": true
    },
    "tags": []
   },
   "outputs": [
    {
     "data": {
      "text/plain": [
       "0.9170770664182084"
      ]
     },
     "execution_count": 69,
     "metadata": {},
     "output_type": "execute_result"
    }
   ],
   "source": [
    "train_predictions = model.predict(X_train)\n",
    "\n",
    "training_accuracy = np.mean(train_predictions == train[\"spam\"])\n",
    "training_accuracy"
   ]
  },
  {
   "cell_type": "markdown",
   "id": "a02399ee",
   "metadata": {},
   "source": [
    "The training accuracy of my final model was really high at 0.9170770664182084, indicating that the selected features and logistic regression approach were effective. This project demonstrated the importance of feature engineering, proper evaluation metrics, and cross-validation in building a robust and accurate classifier. By carefully analyzing the data and refining the model, I was able to achieve a high level of accuracy in classifying spam and ham emails.\n",
    "\n",
    "### Conclusion\n",
    "\n",
    "In this project, I aimed to build an accurate spam classifier using logistic regression. The project was divided into two main sections: section 1 and section 2.\n",
    "\n",
    "#### Section 1\n",
    "In section 1, I started with exploratory data analysis to uncover patterns and potential features that could enhance my model. This included visualizing word frequencies, studying the structure of emails, and analyzing aspects like punctuation, capitalization, and length of emails. I implemented the `words_in_texts` function to create a numeric feature matrix from the email texts. By splitting the training data into training and validation sets, I ensured that the model could be properly evaluated. I then built a simple logistic regression model and evaluated its performance using various metrics such as accuracy, precision, recall, and false positive rate. The analysis of false positives and false negatives helped me understand the trade-offs involved in classifier performance.\n",
    "\n",
    "#### Section 2\n",
    "In section 2, I focused on enhancing the model's accuracy by identifying and extracting the most relevant features from the dataset. I calculated the correlation between each potential feature and the spam/ham indicator and filtered features with a correlation coefficient greater than 0.2. I visualized these significant features using a bar plot and a heatmap of the correlation matrix to identify any multicollinearity issues. By implementing cross-validation, I confirmed that the chosen features did not overfit the dataset and were generalizable to unseen data. Finally, I built a more complex logistic regression model, plotted an ROC curve to understand the trade-off between false positives and false negatives, and assigned my predictions for the training set to the variable `train_predictions`.\n",
    "\n",
    "The final model achieved an accuracy of 0.9170770664182084, demonstrating that the selected features and logistic regression approach were effective in classifying spam and ham emails. This project showcased the importance of feature engineering, proper evaluation metrics, and cross-validation in building a robust and accurate classifier."
   ]
  }
 ],
 "metadata": {
  "kernelspec": {
   "display_name": "Python 3 (ipykernel)",
   "language": "python",
   "name": "python3"
  },
  "language_info": {
   "codemirror_mode": {
    "name": "ipython",
    "version": 3
   },
   "file_extension": ".py",
   "mimetype": "text/x-python",
   "name": "python",
   "nbconvert_exporter": "python",
   "pygments_lexer": "ipython3",
   "version": "3.11.5"
  }
 },
 "nbformat": 4,
 "nbformat_minor": 5
}
